{
 "cells": [
  {
   "cell_type": "code",
   "execution_count": null,
   "metadata": {},
   "outputs": [],
   "source": [
    "from keras.preprocessing.image import ImageDataGenerator\n",
    "from keras.applications.vgg16 import VGG16\n",
    "from keras.applications.inception_v3 import InceptionV3\n",
    "import tensorflow as tf\n",
    "import json\n",
    "import os\n",
    "from models.all_model import *\n",
    "from keras.models import Model\n",
    "from keras.optimizers import Adam\n",
    "from keras.callbacks import ModelCheckpoint,EarlyStopping\n",
    "from datetime import datetime"
   ]
  },
  {
   "cell_type": "code",
   "execution_count": null,
   "metadata": {},
   "outputs": [],
   "source": [
    "#config_model \n",
    "\n",
    "network=\"alexnet\" #we have 4 options: alexnet,vgg,googlenet,resnet\n",
    "pretrained=False\n",
    "dataset=\"RVL\"\n",
    "n_classes=16\n",
    "num_EPOCHS = 10\n",
    "batch_size = 32\n"
   ]
  },
  {
   "cell_type": "code",
   "execution_count": null,
   "metadata": {},
   "outputs": [],
   "source": [
    "#init model\n",
    "if network == \"vgg\":\n",
    "    IMG_SIZE = 224\n",
    "    model = vgg(n_classes,IMG_SIZE,dataset,pretrained)\n",
    "    \n",
    "elif network == \"googlenet\" :\n",
    "    IMG_SIZE = 224\n",
    "    model = googlenet(n_classes,IMG_SIZE,dataset,pretrained)\n",
    "elif network == \"resnet\" :\n",
    "    IMG_SIZE = 224\n",
    "    model = resnet(n_classes,IMG_SIZE,dataset,pretrained)\n",
    "elif network == \"alexnet\" : \n",
    "    IMG_SIZE = 227\n",
    "    model = Alexnet(n_classes,IMG_SIZE,dataset,pretrained)\n",
    "model.summary()\n",
    "# optimizer\n",
    "model.compile(loss='categorical_crossentropy', optimizer=Adam(lr=0.00001), metrics=['accuracy'])\n",
    "\n"
   ]
  },
  {
   "cell_type": "code",
   "execution_count": null,
   "metadata": {
    "scrolled": true
   },
   "outputs": [],
   "source": [
    "train_datagen = ImageDataGenerator(rescale=1. / 255)\n",
    "validation_datagen = ImageDataGenerator(rescale=1. / 255)\n",
    "test_datagen = ImageDataGenerator(rescale=1. / 255)\n",
    "#Create datagerator for training and testing\n",
    "train_generator = train_datagen.flow_from_directory(\n",
    "    './datasets/train',\n",
    "    target_size=(IMG_SIZE, IMG_SIZE),shuffle=True,\n",
    "    batch_size=batch_size)\n",
    "\n",
    "validation_generator = validation_datagen.flow_from_directory(\n",
    "    './datasets/val',\n",
    "    target_size=(IMG_SIZE, IMG_SIZE),\n",
    "    batch_size=batch_size)\n",
    "\n",
    "test_generator = test_datagen.flow_from_directory(\n",
    "    './datasets/test',\n",
    "       target_size=(IMG_SIZE, IMG_SIZE),\n",
    "    batch_size=batch_size)\n",
    "\n",
    "label_map = (train_generator.class_indices)\n",
    "\n",
    "\n",
    "file = open(\"labelmap.txt\", \"w\")\n",
    "file.write(json.dumps(label_map))\n",
    "file.close()\n",
    "\n",
    "#create checkpoint folder for each model\n",
    "save_dir = \"./checkpoint_\"+\"RVL_CDIP_\"+network+(\"_pretrained\" if pretrained else \"_no_pretrained\")\n",
    "if not os.path.exists(save_dir):\n",
    "    os.mkdir(save_dir)\n",
    "save_path = save_dir + \"/\"  + 'weights-{epoch:02d}-{val_acc:.2f}.hdf5'\n",
    "#model checkpoint, save model with highest validation accuracy\n",
    "check_pointer = ModelCheckpoint(save_path, monitor='val_acc', mode='max', save_best_only=True)\n",
    "es = EarlyStopping(monitor='val_acc', mode='max',patience=4)\n",
    "\n",
    "model.fit_generator(\n",
    "    train_generator,\n",
    "    steps_per_epoch=320000// batch_size,\n",
    "    epochs=num_EPOCHS,\n",
    "    callbacks=[check_pointer,es],\n",
    "    validation_data=validation_generator,\n",
    "    validation_steps=40000 // batch_size)\n"
   ]
  },
  {
   "cell_type": "code",
   "execution_count": null,
   "metadata": {},
   "outputs": [],
   "source": [
    "#model.load_weights(\"./googlenet/first_try_cnn_1.hdf5\")\n",
    "model.fit_generator(\n",
    "    train_generator,\n",
    "    steps_per_epoch=320000 // batch_size,\n",
    "    epochs=5,\n",
    "    callbacks=[check_pointer,es],\n",
    "    validation_data=validation_generator,\n",
    "    validation_steps=40000 // batch_size)\n"
   ]
  },
  {
   "cell_type": "code",
   "execution_count": null,
   "metadata": {},
   "outputs": [],
   "source": []
  }
 ],
 "metadata": {
  "kernelspec": {
   "display_name": "Python 3",
   "language": "python",
   "name": "python3"
  },
  "language_info": {
   "codemirror_mode": {
    "name": "ipython",
    "version": 3
   },
   "file_extension": ".py",
   "mimetype": "text/x-python",
   "name": "python",
   "nbconvert_exporter": "python",
   "pygments_lexer": "ipython3",
   "version": "3.5.2"
  }
 },
 "nbformat": 4,
 "nbformat_minor": 2
}
