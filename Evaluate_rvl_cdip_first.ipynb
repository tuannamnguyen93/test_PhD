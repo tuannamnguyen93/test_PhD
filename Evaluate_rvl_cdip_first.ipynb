{
 "cells": [
  {
   "cell_type": "code",
   "execution_count": null,
   "metadata": {},
   "outputs": [],
   "source": [
    "import os\n",
    "#os.environ[\"CUDA_VISIBLE_DEVICES\"]=\"-1\"\n",
    "from keras.preprocessing.image import ImageDataGenerator\n",
    "from keras.applications.vgg16 import VGG16\n",
    "from keras.applications.inception_v3 import InceptionV3\n",
    "import tensorflow as tf\n",
    "import json\n",
    "\n",
    "from models.all_model import *\n",
    "from keras.models import Model\n",
    "from keras.optimizers import Adam\n",
    "from keras.callbacks import ModelCheckpoint,EarlyStopping\n",
    "from datetime import datetime"
   ]
  },
  {
   "cell_type": "code",
   "execution_count": 2,
   "metadata": {},
   "outputs": [],
   "source": [
    "network=\"alexnet\" #we have 4 options: alexnet,vgg,googlenet,resnet\n",
    "pretrained=False\n",
    "dataset=\"RVL\"\n",
    "n_classes=16\n",
    "num_EPOCHS = 10\n",
    "batch_size = 32"
   ]
  },
  {
   "cell_type": "code",
   "execution_count": 3,
   "metadata": {},
   "outputs": [
    {
     "name": "stdout",
     "output_type": "stream",
     "text": [
      "WARNING:tensorflow:From /usr/local/lib/python3.5/dist-packages/tensorflow/python/framework/op_def_library.py:263: colocate_with (from tensorflow.python.framework.ops) is deprecated and will be removed in a future version.\n",
      "Instructions for updating:\n",
      "Colocations handled automatically by placer.\n"
     ]
    },
    {
     "name": "stderr",
     "output_type": "stream",
     "text": [
      "/home/aiteammor/Desktop/DFKI/models/all_model.py:66: UserWarning: Update your `Conv2D` call to the Keras 2 API: `Conv2D(input_shape=(227, 227,..., kernel_initializer=<function ..., kernel_regularizer=<keras.reg..., padding=\"valid\", kernel_size=(11, 11), strides=(4, 4), filters=96)`\n",
      "  W_regularizer=l2(weight_decay)))  # subsample is stride\n",
      "/home/aiteammor/Desktop/DFKI/models/all_model.py:73: UserWarning: Update your `Conv2D` call to the Keras 2 API: `Conv2D(256, (5, 5), padding=\"same\", kernel_initializer=<function ..., kernel_regularizer=<keras.reg...)`\n",
      "  Convolution2D(256, 5, 5, border_mode='same', init=Alexnet_initialization, W_regularizer=l2(weight_decay)))\n",
      "/home/aiteammor/Desktop/DFKI/models/all_model.py:80: UserWarning: Update your `Conv2D` call to the Keras 2 API: `Conv2D(384, (3, 3), padding=\"same\", kernel_initializer=<function ..., kernel_regularizer=<keras.reg...)`\n",
      "  Convolution2D(384, 3, 3, border_mode='same', init=Alexnet_initialization, W_regularizer=l2(weight_decay)))\n",
      "/home/aiteammor/Desktop/DFKI/models/all_model.py:85: UserWarning: Update your `Conv2D` call to the Keras 2 API: `Conv2D(384, (3, 3), padding=\"same\", kernel_initializer=<function ..., kernel_regularizer=<keras.reg...)`\n",
      "  Convolution2D(384, 3, 3, border_mode='same', init=Alexnet_initialization, W_regularizer=l2(weight_decay)))\n",
      "/home/aiteammor/Desktop/DFKI/models/all_model.py:90: UserWarning: Update your `Conv2D` call to the Keras 2 API: `Conv2D(256, (3, 3), padding=\"same\", kernel_initializer=<function ..., kernel_regularizer=<keras.reg...)`\n",
      "  Convolution2D(256, 3, 3, border_mode='same', init=Alexnet_initialization, W_regularizer=l2(weight_decay)))\n",
      "/home/aiteammor/Desktop/DFKI/models/all_model.py:97: UserWarning: Update your `Dense` call to the Keras 2 API: `Dense(4096, kernel_initializer=<function ..., kernel_regularizer=<keras.reg...)`\n",
      "  model.add(Dense(4096, init=Alexnet_initialization, W_regularizer=l2(weight_decay)))\n",
      "/home/aiteammor/Desktop/DFKI/models/all_model.py:102: UserWarning: Update your `Dense` call to the Keras 2 API: `Dense(4096, kernel_initializer=<function ..., kernel_regularizer=<keras.reg...)`\n",
      "  model.add(Dense(4096, init=Alexnet_initialization, W_regularizer=l2(weight_decay)))\n"
     ]
    },
    {
     "name": "stdout",
     "output_type": "stream",
     "text": [
      "_________________________________________________________________\n",
      "Layer (type)                 Output Shape              Param #   \n",
      "=================================================================\n",
      "conv2d_1 (Conv2D)            (None, 55, 55, 96)        34944     \n",
      "_________________________________________________________________\n",
      "activation_1 (Activation)    (None, 55, 55, 96)        0         \n",
      "_________________________________________________________________\n",
      "max_pooling2d_1 (MaxPooling2 (None, 27, 27, 96)        0         \n",
      "_________________________________________________________________\n",
      "batch_normalization_1 (Batch (None, 27, 27, 96)        384       \n",
      "_________________________________________________________________\n",
      "conv2d_2 (Conv2D)            (None, 27, 27, 256)       614656    \n",
      "_________________________________________________________________\n",
      "activation_2 (Activation)    (None, 27, 27, 256)       0         \n",
      "_________________________________________________________________\n",
      "max_pooling2d_2 (MaxPooling2 (None, 13, 13, 256)       0         \n",
      "_________________________________________________________________\n",
      "batch_normalization_2 (Batch (None, 13, 13, 256)       1024      \n",
      "_________________________________________________________________\n",
      "conv2d_3 (Conv2D)            (None, 13, 13, 384)       885120    \n",
      "_________________________________________________________________\n",
      "activation_3 (Activation)    (None, 13, 13, 384)       0         \n",
      "_________________________________________________________________\n",
      "conv2d_4 (Conv2D)            (None, 13, 13, 384)       1327488   \n",
      "_________________________________________________________________\n",
      "activation_4 (Activation)    (None, 13, 13, 384)       0         \n",
      "_________________________________________________________________\n",
      "conv2d_5 (Conv2D)            (None, 13, 13, 256)       884992    \n",
      "_________________________________________________________________\n",
      "activation_5 (Activation)    (None, 13, 13, 256)       0         \n",
      "_________________________________________________________________\n",
      "max_pooling2d_3 (MaxPooling2 (None, 6, 6, 256)         0         \n",
      "_________________________________________________________________\n",
      "flatten_1 (Flatten)          (None, 9216)              0         \n",
      "_________________________________________________________________\n",
      "dense_1 (Dense)              (None, 4096)              37752832  \n",
      "_________________________________________________________________\n",
      "activation_6 (Activation)    (None, 4096)              0         \n",
      "_________________________________________________________________\n",
      "dense_2 (Dense)              (None, 4096)              16781312  \n",
      "_________________________________________________________________\n",
      "activation_7 (Activation)    (None, 4096)              0         \n",
      "_________________________________________________________________\n",
      "dense_3 (Dense)              (None, 16)                65552     \n",
      "_________________________________________________________________\n",
      "activation_8 (Activation)    (None, 16)                0         \n",
      "=================================================================\n",
      "Total params: 58,348,304\n",
      "Trainable params: 58,347,600\n",
      "Non-trainable params: 704\n",
      "_________________________________________________________________\n"
     ]
    },
    {
     "name": "stderr",
     "output_type": "stream",
     "text": [
      "/home/aiteammor/Desktop/DFKI/models/all_model.py:107: UserWarning: Update your `Dense` call to the Keras 2 API: `Dense(16, kernel_initializer=<function ..., kernel_regularizer=<keras.reg...)`\n",
      "  model.add(Dense(n_classes, init=Alexnet_initialization, W_regularizer=l2(weight_decay)))\n"
     ]
    }
   ],
   "source": [
    "if network == \"vgg\":\n",
    "    IMG_SIZE = 224\n",
    "    model = vgg(n_classes,IMG_SIZE,dataset,pretrained)\n",
    "    \n",
    "elif network == \"googlenet\" :\n",
    "    IMG_SIZE = 224\n",
    "    model = googlenet(n_classes,IMG_SIZE,dataset,pretrained)\n",
    "elif network == \"resnet\" :\n",
    "    IMG_SIZE = 224\n",
    "    model = resnet(n_classes,IMG_SIZE,dataset,pretrained)\n",
    "elif network == \"alexnet\" : \n",
    "    IMG_SIZE = 227\n",
    "    model = Alexnet(n_classes,IMG_SIZE,\"RVL\",pretrained)\n",
    "model.summary()\n",
    "# optimizer\n",
    "model.compile(loss='categorical_crossentropy', optimizer=Adam(lr=0.00001), metrics=['accuracy'])\n",
    "\n"
   ]
  },
  {
   "cell_type": "code",
   "execution_count": 4,
   "metadata": {},
   "outputs": [],
   "source": [
    "model.load_weights(\"checkpoint_RVL_CDIP_alexnet_no_pretrained/weights-08-0.84.hdf5\")"
   ]
  },
  {
   "cell_type": "code",
   "execution_count": 5,
   "metadata": {},
   "outputs": [
    {
     "name": "stdout",
     "output_type": "stream",
     "text": [
      "Found 39995 images belonging to 16 classes.\n",
      "Found 39996 images belonging to 16 classes.\n"
     ]
    }
   ],
   "source": [
    "validation_datagen = ImageDataGenerator(rescale=1. / 255)\n",
    "test_datagen = ImageDataGenerator(rescale=1. / 255)\n",
    "validation_generator = validation_datagen.flow_from_directory(\n",
    "    './datasets/val',\n",
    "    target_size=(IMG_SIZE, IMG_SIZE),\n",
    "    batch_size=batch_size,shuffle = True)\n",
    "\n",
    "test_generator = test_datagen.flow_from_directory(\n",
    "    './datasets/test',\n",
    "       target_size=(IMG_SIZE, IMG_SIZE),\n",
    "    batch_size=batch_size,shuffle = True)\n"
   ]
  },
  {
   "cell_type": "code",
   "execution_count": 6,
   "metadata": {},
   "outputs": [],
   "source": [
    "score_val = model.evaluate_generator(validation_generator,steps=len(validation_generator))"
   ]
  },
  {
   "cell_type": "code",
   "execution_count": 7,
   "metadata": {},
   "outputs": [],
   "source": [
    "score_test = model.evaluate_generator(test_generator,steps=len(test_generator))"
   ]
  },
  {
   "cell_type": "code",
   "execution_count": 8,
   "metadata": {},
   "outputs": [
    {
     "name": "stdout",
     "output_type": "stream",
     "text": [
      "[1.0558493832108795, 0.835479434938308] [1.072646107980282, 0.8322082208399654]\n"
     ]
    }
   ],
   "source": [
    "print(score_val,score_test)"
   ]
  },
  {
   "cell_type": "code",
   "execution_count": null,
   "metadata": {},
   "outputs": [],
   "source": []
  }
 ],
 "metadata": {
  "kernelspec": {
   "display_name": "Python 3",
   "language": "python",
   "name": "python3"
  },
  "language_info": {
   "codemirror_mode": {
    "name": "ipython",
    "version": 3
   },
   "file_extension": ".py",
   "mimetype": "text/x-python",
   "name": "python",
   "nbconvert_exporter": "python",
   "pygments_lexer": "ipython3",
   "version": "3.5.2"
  }
 },
 "nbformat": 4,
 "nbformat_minor": 2
}
